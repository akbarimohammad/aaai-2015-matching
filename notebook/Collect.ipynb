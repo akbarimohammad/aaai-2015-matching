{
 "metadata": {
  "name": "",
  "signature": "sha256:8adeccb4df82cfc9f08780fcecc43eacc0ff49909d3e255ae134489196b0874f"
 },
 "nbformat": 3,
 "nbformat_minor": 0,
 "worksheets": [
  {
   "cells": [
    {
     "cell_type": "markdown",
     "metadata": {},
     "source": [
      "** Collect **\n",
      "\n",
      "Here we show how to use the command line interface to collect tweets that will be used in the project:\n",
      "\n",
      "- tweets that contain given hashtags to find users who exercise\n",
      "- tweets that contain given words to find tweets that express a mood of state\n",
      "- every tweet of a given user"
     ]
    },
    {
     "cell_type": "markdown",
     "metadata": {},
     "source": [
      "** Collect tweets containing given words **\n",
      "\n",
      "To collect fitness tweets, we use a list of fitness applications as a filter (shown below). This filter can be changed as one wishes."
     ]
    },
    {
     "cell_type": "code",
     "collapsed": false,
     "input": [
      "!cat collect/sport_tags"
     ],
     "language": "python",
     "metadata": {},
     "outputs": [
      {
       "output_type": "stream",
       "stream": "stdout",
       "text": [
        "runkeeper\n",
        "nikeplus\n",
        "runtastic\n",
        "endomondo\n",
        "mapmyrun\n",
        "strava\n",
        "cyclemeter\n",
        "fitstats\n",
        "mapmyfitness\n",
        "runmeter\n"
       ]
      }
     ],
     "prompt_number": 25
    },
    {
     "cell_type": "markdown",
     "metadata": {},
     "source": [
      "In the case where we want to collect tweets that express a mood of state, the filter we use is the expanded list of POMS words built in the previous step of the project. Following, we show the 10 first words of the POMS Tension/Anxiety dimension."
     ]
    },
    {
     "cell_type": "code",
     "collapsed": false,
     "input": [
      "!head -n 10 collect/words_TA"
     ],
     "language": "python",
     "metadata": {},
     "outputs": [
      {
       "output_type": "stream",
       "stream": "stdout",
       "text": [
        "nervous\n",
        "sad\n",
        "upset\n",
        "confused\n",
        "angry\n",
        "depressed\n",
        "weak\n",
        "sick\n",
        "awkward\n",
        "stupid\n"
       ]
      }
     ],
     "prompt_number": 35
    },
    {
     "cell_type": "markdown",
     "metadata": {},
     "source": [
      "Here we collect 20 tweets that contains one of these words and we store them in the file 'collect/output_tweets'."
     ]
    },
    {
     "cell_type": "code",
     "collapsed": false,
     "input": [
      "!sporty-cli tweets collect collect/settings.json collect/output_tweets collect/sport_tags -c 20"
     ],
     "language": "python",
     "metadata": {},
     "outputs": [],
     "prompt_number": 16
    },
    {
     "cell_type": "markdown",
     "metadata": {},
     "source": [
      "We can easily see the content of the tweets by loading them using the `json` module. Following, we display the user id and the abbreviated content of each tweet. Using this method, we can detect exercising users assuming that an exercising user uses a fitness application."
     ]
    },
    {
     "cell_type": "code",
     "collapsed": false,
     "input": [
      "import json\n",
      "with open(\"collect/output_tweets\") as outtw:\n",
      "    for line in outtw:\n",
      "        tw = json.loads(line)\n",
      "        print \"%d\\t%s ... %s\" % (tw['user']['id'], tw['text'][:30], tw['text'][-30:])"
     ],
     "language": "python",
     "metadata": {},
     "outputs": [
      {
       "output_type": "stream",
       "stream": "stdout",
       "text": [
        "327213057\tCold but sunny I just ran 2.07 ... tp://t.co/znd0NWIf95 #nikeplus\n",
        "389994337\tKnowle run! #freezing #needthe ... ikeplus http://t.co/bSy40PpnOH\n",
        "165853772\tI was out running 4.78 km with ... orphins http://t.co/LqPzVr21qV\n",
        "17424972\tWould have been better off wea ... tp://t.co/xcKin0iVsA #nikeplus\n",
        "456873852\tI just finished skiing 12.00 k ... orphins http://t.co/vQelhUuDxR\n",
        "390217383\tI just ran 5.83 mi @ a 16'45'' ... tp://t.co/Gn7Mv8VQyE #nikeplus\n",
        "447539118\tI just ran 13.1 mi @ a 7'42\"/m ... tp://t.co/isxSjXFpv3 #nikeplus\n",
        "20029962\tI just finished a 0.06 mi run  ... tp://t.co/URVlEiVlug #nikeplus\n",
        "84094995\tI just ran 5.10 km with Nike+. ... tp://t.co/Bp4t8HYc6y #nikeplus\n",
        "93854802\tI just finished walking 6.27 m ... orphins http://t.co/ABFEaQzAPH\n",
        "28733888\tJust completed a 10.18 mi run  ... p://t.co/ds5j7GfYyZ #RunKeeper\n",
        "71682074\tJust completed a 1.96 mi run - ... p://t.co/Z22jzz4w2S #RunKeeper\n",
        "794512916\tAchieved a new personal record ... t.co/EqCoxzTWCG #FitnessAlerts\n",
        "2946138395\thas just finished a runtastic  ... sh-up training of 17 push-ups.\n",
        "1588928484\tJust completed a 2.27 mi run - ... p://t.co/IdtHWNLwET #RunKeeper\n",
        "34342682\tJust completed a 13.48 km run  ... p://t.co/xBgKqfnlqp #RunKeeper\n",
        "336657429\tI ran 12.00 mi with @mapmyrun. ... /t.co/UOvwhPdbwK #run #running\n",
        "58792575\tI just ran 5.57 km with Nike+. ...  5.57 km with Nike+. #nikeplus\n",
        "546272197\t#justdoit #nikewomen  I just r ... tp://t.co/42GkPpUryA #nikeplus\n",
        "950385756\tjust finished a Runtastic run  ... d app: https://t.co/JiXfcPOuf2\n"
       ]
      }
     ],
     "prompt_number": 33
    },
    {
     "cell_type": "code",
     "collapsed": false,
     "input": [
      "!sporty-cli"
     ],
     "language": "python",
     "metadata": {},
     "outputs": [
      {
       "output_type": "stream",
       "stream": "stderr",
       "text": [
        "Usage: sporty-cli -h | --help\n",
        "       sporty-cli mood benchmark <labeled_tweets> [-bmptu] [-s SW] [-e E] [-k K]\n",
        "                          [--min-df=M] [--n-folds=K] [--n-examples=N]\n",
        "                          [--clf=C [--clf-options=O]] [--proba=P] [--roc=R]\n",
        "                          [--reduce-func=R] [--features-func=F] [--liwc=L]\n",
        "       sporty-cli mood label <input_tweets> <labeled_tweets> [-l L]\n",
        "       sporty-cli mood predict_user <labeled_tweets> <users_dir> <user_ids_file>\n",
        "                            [-bmptu] [-s SW] [-e E] [--liwc=L]\n",
        "                            [--forbid=F] [--clf=C [--clf-options=O]]\n",
        "                            [--proba=P] [--min-df=M] [--reduce-func=R]\n",
        "                            [--features-func=F] [--sporty] [--poms=P] [--raw]\n",
        "       sporty-cli mood match_users <sport_scores> <no_sport_scores> <user_match> [--rand=R]\n",
        "       sporty-cli tweets collect <settings_file> <output_tweets> <track_file>\n",
        "                          [<track_file>...] [-c C]\n",
        "       sporty-cli tweets filter <input_tweets> <output_tweets> <track_file>\n",
        "                         [<track_file>...] [-c C] [--each] [--no-rt]\n",
        "       sporty-cli users collect_tweets <settings_file> <user_ids_file> <output_dir>\n",
        "                                [-c C]\n",
        "       sporty-cli users list_friends <settings_file> <user_ids_file> <output_dir>\n",
        "       sporty-cli users most_similar <user_ids_file> <users_dir> <friends_dir>\n",
        "                              [--no-tweets]\n",
        "       sporty-cli users show <settings_file> <input_dir>\n",
        "       sporty-cli stream collect <settings_file> [--lang=L] [-c C]\n"
       ]
      }
     ],
     "prompt_number": 34
    }
   ],
   "metadata": {}
  }
 ]
}